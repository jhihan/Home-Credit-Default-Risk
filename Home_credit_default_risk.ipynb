{
 "cells": [
  {
   "cell_type": "markdown",
   "metadata": {},
   "source": [
    "\"Home Credit Default Risk\" project with automatic feature engineering library featuretools\n",
    "=======\n",
    "This project is from the kaggle competition https://www.kaggle.com/c/home-credit-default-risk/overview and is a good practice to deal with large relational database. Doing feature engineering manually in this kind of datasets is possible but very exhausting. The usage of the automatic feature engineering library featuretools ( https://docs.featuretools.com/en/stable/ ) can really save our life. Before using this library, we still need to do exploratory data analysis (EDA) in order to understand these datasets (at least the main table) more. The understanding of the data can help us to do better data preprocessing before feature engineering. This EDA process is done in the seperated file Home_Credit_Default_Risk_app.ipynb."
   ]
  },
  {
   "cell_type": "code",
   "execution_count": 111,
   "metadata": {},
   "outputs": [],
   "source": [
    "import pandas as pd\n",
    "import matplotlib.pyplot as plt\n",
    "\n",
    "from statsmodels.graphics.tsaplots import plot_acf, plot_pacf\n",
    "import numpy as np\n",
    "import seaborn\n",
    "from sklearn.model_selection import train_test_split, TimeSeriesSplit, GridSearchCV\n",
    "from sklearn.preprocessing import StandardScaler,OneHotEncoder,LabelEncoder\n",
    "from sklearn.metrics import mean_squared_error, roc_auc_score, accuracy_score\n",
    "from sklearn.ensemble import RandomForestRegressor, AdaBoostRegressor, GradientBoostingRegressor\n",
    "from sklearn.ensemble import RandomForestClassifier\n",
    "from sklearn.tree import DecisionTreeRegressor\n",
    "from sklearn.svm import SVR, SVC\n",
    "from sklearn.linear_model import LinearRegression\n",
    "from sklearn.linear_model import LogisticRegression\n",
    "from sklearn.pipeline import Pipeline\n",
    "import xgboost as xgb\n",
    "import pickle\n",
    "\n",
    "import featuretools as ft\n",
    "import featuretools.variable_types as vtypes"
   ]
  },
  {
   "cell_type": "code",
   "execution_count": 2,
   "metadata": {},
   "outputs": [],
   "source": [
    "app_train = pd.read_csv('application_train.csv')\n",
    "app_test = pd.read_csv('application_test.csv')\n",
    "bureau = pd.read_csv('bureau.csv')\n",
    "bureau_balance = pd.read_csv('bureau_balance.csv')\n",
    "cash = pd.read_csv('POS_CASH_balance.csv')\n",
    "credit = pd.read_csv('credit_card_balance.csv')\n",
    "previous = pd.read_csv('previous_application.csv')\n",
    "installments = pd.read_csv('installments_payments.csv')"
   ]
  },
  {
   "cell_type": "code",
   "execution_count": 3,
   "metadata": {},
   "outputs": [],
   "source": [
    "app = app_train.append(app_test, ignore_index = True, sort = True)"
   ]
  },
  {
   "cell_type": "code",
   "execution_count": null,
   "metadata": {},
   "outputs": [],
   "source": []
  },
  {
   "cell_type": "code",
   "execution_count": 4,
   "metadata": {},
   "outputs": [
    {
     "data": {
      "text/plain": [
       "(356255, 122)"
      ]
     },
     "execution_count": 4,
     "metadata": {},
     "output_type": "execute_result"
    }
   ],
   "source": [
    "app.shape"
   ]
  },
  {
   "cell_type": "markdown",
   "metadata": {},
   "source": [
    "Data anomoly handling\n",
    "--\n",
    "From the analysis of the app data from Home_Credit_Default_Risk_app.ipynb. We know that the data anomoly happens in the number of days field : 365243 days (365243 / 365.25 = 999 yrs). Therefore, we should repace 365243 with np.nan in every dataframe."
   ]
  },
  {
   "cell_type": "code",
   "execution_count": 5,
   "metadata": {},
   "outputs": [],
   "source": [
    "app = app.replace({365243: np.nan})\n",
    "bureau = bureau.replace({365243: np.nan})\n",
    "bureau_balance = bureau_balance.replace({365243: np.nan})\n",
    "cash = cash.replace({365243: np.nan})\n",
    "credit = credit.replace({365243: np.nan})\n",
    "previous = previous.replace({365243: np.nan})\n",
    "installments = installments.replace({365243: np.nan})"
   ]
  },
  {
   "cell_type": "markdown",
   "metadata": {},
   "source": [
    "Memory Reduction\n",
    "--\n",
    "Converting the data type to some smaller subtype such as float64 to float32 can reduce the memory usage. This step is important when the datasets is large. Without this step, the feature matrix calculation might fail due to the lack of memory in the disk. In addition, we should also need to make sure that the keys, which are used to define the relationships, must have the same data type."
   ]
  },
  {
   "cell_type": "code",
   "execution_count": 6,
   "metadata": {},
   "outputs": [
    {
     "name": "stdout",
     "output_type": "stream",
     "text": [
      "type of bureau[SK_ID_BUREAU] float64\n",
      "type of bureau_balance[SK_ID_BUREAU] int64\n",
      "type of app[SK_ID_CURR] float64\n",
      "type of bureau[SK_ID_CURR] float64\n",
      "type of previous[SK_ID_CURR] float64\n",
      "type of previous[SK_ID_PREV] float64\n",
      "type of cash[SK_ID_PREV] float64\n",
      "type of installments[SK_ID_PREV] float64\n",
      "type of credit[SK_ID_PREV] int64\n"
     ]
    }
   ],
   "source": [
    "print('type of bureau[SK_ID_BUREAU]',bureau['SK_ID_BUREAU'].dtypes)\n",
    "print('type of bureau_balance[SK_ID_BUREAU]',bureau_balance['SK_ID_BUREAU'].dtypes)\n",
    "print('type of app[SK_ID_CURR]',app['SK_ID_CURR'].dtypes)\n",
    "print('type of bureau[SK_ID_CURR]',bureau['SK_ID_CURR'].dtypes)\n",
    "print('type of previous[SK_ID_CURR]',previous['SK_ID_CURR'].dtypes)\n",
    "print('type of previous[SK_ID_PREV]',previous['SK_ID_PREV'].dtypes)\n",
    "print('type of cash[SK_ID_PREV]',cash['SK_ID_PREV'].dtypes)\n",
    "print('type of installments[SK_ID_PREV]',installments['SK_ID_PREV'].dtypes)\n",
    "print('type of credit[SK_ID_PREV]',credit['SK_ID_PREV'].dtypes)"
   ]
  },
  {
   "cell_type": "code",
   "execution_count": 7,
   "metadata": {},
   "outputs": [],
   "source": [
    "bureau = bureau.astype({'SK_ID_BUREAU': 'float32','SK_ID_CURR':'float32'})\n",
    "bureau_balance = bureau_balance.astype({'SK_ID_BUREAU': 'float32'})\n",
    "app = app.astype({'SK_ID_CURR': 'float32'})\n",
    "previous = previous.astype({'SK_ID_CURR': 'float32','SK_ID_PREV': 'float32'})\n",
    "cash = cash.astype({'SK_ID_PREV': 'float32'})\n",
    "installments = installments.astype({'SK_ID_PREV': 'float32'})\n",
    "credit = credit.astype({'SK_ID_PREV': 'float32'})"
   ]
  },
  {
   "cell_type": "code",
   "execution_count": 13,
   "metadata": {},
   "outputs": [],
   "source": [
    "def convert_types(df):\n",
    "    \"\"\"Convert data types in a pandas dataframe. Purpose is to reduce size of dataframe.\"\"\"\n",
    "    for col in df:\n",
    "        if ('SK_ID' in col):\n",
    "            df[col] = df[col].fillna(0).astype(np.int32)\n",
    "        elif (df[col].dtype == 'object') and (df[col].nunique() < df.shape[0]):\n",
    "            df[col] = df[col].astype('category')\n",
    "        elif list(df[col].unique()) == [1, 0]:\n",
    "            df[col] = df[col].astype(bool)\n",
    "        elif df[col].dtype == float:\n",
    "            df[col] = df[column].astype(np.float32)\n",
    "        elif df[col].dtype == int:\n",
    "            df[col] = df[column].astype(np.int32)\n",
    "    return df"
   ]
  },
  {
   "cell_type": "code",
   "execution_count": 14,
   "metadata": {},
   "outputs": [],
   "source": [
    "app = convert_types(app)\n",
    "bureau = convert_types(bureau)\n",
    "bureau_balance = convert_types(bureau_balance)\n",
    "cash = convert_types(cash)\n",
    "credit = convert_types(credit)\n",
    "previous = convert_types(previous)\n",
    "installments = convert_types(installments)"
   ]
  },
  {
   "cell_type": "code",
   "execution_count": 15,
   "metadata": {},
   "outputs": [
    {
     "data": {
      "text/html": [
       "<div>\n",
       "<style scoped>\n",
       "    .dataframe tbody tr th:only-of-type {\n",
       "        vertical-align: middle;\n",
       "    }\n",
       "\n",
       "    .dataframe tbody tr th {\n",
       "        vertical-align: top;\n",
       "    }\n",
       "\n",
       "    .dataframe thead th {\n",
       "        text-align: right;\n",
       "    }\n",
       "</style>\n",
       "<table border=\"1\" class=\"dataframe\">\n",
       "  <thead>\n",
       "    <tr style=\"text-align: right;\">\n",
       "      <th></th>\n",
       "      <th>SK_ID_PREV</th>\n",
       "      <th>SK_ID_CURR</th>\n",
       "      <th>MONTHS_BALANCE</th>\n",
       "      <th>AMT_BALANCE</th>\n",
       "      <th>AMT_CREDIT_LIMIT_ACTUAL</th>\n",
       "      <th>AMT_DRAWINGS_ATM_CURRENT</th>\n",
       "      <th>AMT_DRAWINGS_CURRENT</th>\n",
       "      <th>AMT_DRAWINGS_OTHER_CURRENT</th>\n",
       "      <th>AMT_DRAWINGS_POS_CURRENT</th>\n",
       "      <th>AMT_INST_MIN_REGULARITY</th>\n",
       "      <th>...</th>\n",
       "      <th>AMT_RECIVABLE</th>\n",
       "      <th>AMT_TOTAL_RECEIVABLE</th>\n",
       "      <th>CNT_DRAWINGS_ATM_CURRENT</th>\n",
       "      <th>CNT_DRAWINGS_CURRENT</th>\n",
       "      <th>CNT_DRAWINGS_OTHER_CURRENT</th>\n",
       "      <th>CNT_DRAWINGS_POS_CURRENT</th>\n",
       "      <th>CNT_INSTALMENT_MATURE_CUM</th>\n",
       "      <th>NAME_CONTRACT_STATUS</th>\n",
       "      <th>SK_DPD</th>\n",
       "      <th>SK_DPD_DEF</th>\n",
       "    </tr>\n",
       "  </thead>\n",
       "  <tbody>\n",
       "    <tr>\n",
       "      <th>0</th>\n",
       "      <td>2562384</td>\n",
       "      <td>378907</td>\n",
       "      <td>-6</td>\n",
       "      <td>56.970001</td>\n",
       "      <td>135000</td>\n",
       "      <td>0.0</td>\n",
       "      <td>877.5</td>\n",
       "      <td>0.0</td>\n",
       "      <td>877.5</td>\n",
       "      <td>1700.324951</td>\n",
       "      <td>...</td>\n",
       "      <td>0.000000</td>\n",
       "      <td>0.000000</td>\n",
       "      <td>0.0</td>\n",
       "      <td>1</td>\n",
       "      <td>0.0</td>\n",
       "      <td>1.0</td>\n",
       "      <td>35.0</td>\n",
       "      <td>Active</td>\n",
       "      <td>0</td>\n",
       "      <td>0</td>\n",
       "    </tr>\n",
       "    <tr>\n",
       "      <th>1</th>\n",
       "      <td>2582071</td>\n",
       "      <td>363914</td>\n",
       "      <td>-1</td>\n",
       "      <td>63975.554688</td>\n",
       "      <td>45000</td>\n",
       "      <td>2250.0</td>\n",
       "      <td>2250.0</td>\n",
       "      <td>0.0</td>\n",
       "      <td>0.0</td>\n",
       "      <td>2250.000000</td>\n",
       "      <td>...</td>\n",
       "      <td>64875.554688</td>\n",
       "      <td>64875.554688</td>\n",
       "      <td>1.0</td>\n",
       "      <td>1</td>\n",
       "      <td>0.0</td>\n",
       "      <td>0.0</td>\n",
       "      <td>69.0</td>\n",
       "      <td>Active</td>\n",
       "      <td>0</td>\n",
       "      <td>0</td>\n",
       "    </tr>\n",
       "    <tr>\n",
       "      <th>2</th>\n",
       "      <td>1740877</td>\n",
       "      <td>371185</td>\n",
       "      <td>-7</td>\n",
       "      <td>31815.224609</td>\n",
       "      <td>450000</td>\n",
       "      <td>0.0</td>\n",
       "      <td>0.0</td>\n",
       "      <td>0.0</td>\n",
       "      <td>0.0</td>\n",
       "      <td>2250.000000</td>\n",
       "      <td>...</td>\n",
       "      <td>31460.085938</td>\n",
       "      <td>31460.085938</td>\n",
       "      <td>0.0</td>\n",
       "      <td>0</td>\n",
       "      <td>0.0</td>\n",
       "      <td>0.0</td>\n",
       "      <td>30.0</td>\n",
       "      <td>Active</td>\n",
       "      <td>0</td>\n",
       "      <td>0</td>\n",
       "    </tr>\n",
       "    <tr>\n",
       "      <th>3</th>\n",
       "      <td>1389973</td>\n",
       "      <td>337855</td>\n",
       "      <td>-4</td>\n",
       "      <td>236572.109375</td>\n",
       "      <td>225000</td>\n",
       "      <td>2250.0</td>\n",
       "      <td>2250.0</td>\n",
       "      <td>0.0</td>\n",
       "      <td>0.0</td>\n",
       "      <td>11795.759766</td>\n",
       "      <td>...</td>\n",
       "      <td>233048.968750</td>\n",
       "      <td>233048.968750</td>\n",
       "      <td>1.0</td>\n",
       "      <td>1</td>\n",
       "      <td>0.0</td>\n",
       "      <td>0.0</td>\n",
       "      <td>10.0</td>\n",
       "      <td>Active</td>\n",
       "      <td>0</td>\n",
       "      <td>0</td>\n",
       "    </tr>\n",
       "    <tr>\n",
       "      <th>4</th>\n",
       "      <td>1891521</td>\n",
       "      <td>126868</td>\n",
       "      <td>-1</td>\n",
       "      <td>453919.468750</td>\n",
       "      <td>450000</td>\n",
       "      <td>0.0</td>\n",
       "      <td>11547.0</td>\n",
       "      <td>0.0</td>\n",
       "      <td>11547.0</td>\n",
       "      <td>22924.890625</td>\n",
       "      <td>...</td>\n",
       "      <td>453919.468750</td>\n",
       "      <td>453919.468750</td>\n",
       "      <td>0.0</td>\n",
       "      <td>1</td>\n",
       "      <td>0.0</td>\n",
       "      <td>1.0</td>\n",
       "      <td>101.0</td>\n",
       "      <td>Active</td>\n",
       "      <td>0</td>\n",
       "      <td>0</td>\n",
       "    </tr>\n",
       "  </tbody>\n",
       "</table>\n",
       "<p>5 rows × 23 columns</p>\n",
       "</div>"
      ],
      "text/plain": [
       "   SK_ID_PREV  SK_ID_CURR  MONTHS_BALANCE    AMT_BALANCE  \\\n",
       "0     2562384      378907              -6      56.970001   \n",
       "1     2582071      363914              -1   63975.554688   \n",
       "2     1740877      371185              -7   31815.224609   \n",
       "3     1389973      337855              -4  236572.109375   \n",
       "4     1891521      126868              -1  453919.468750   \n",
       "\n",
       "   AMT_CREDIT_LIMIT_ACTUAL  AMT_DRAWINGS_ATM_CURRENT  AMT_DRAWINGS_CURRENT  \\\n",
       "0                   135000                       0.0                 877.5   \n",
       "1                    45000                    2250.0                2250.0   \n",
       "2                   450000                       0.0                   0.0   \n",
       "3                   225000                    2250.0                2250.0   \n",
       "4                   450000                       0.0               11547.0   \n",
       "\n",
       "   AMT_DRAWINGS_OTHER_CURRENT  AMT_DRAWINGS_POS_CURRENT  \\\n",
       "0                         0.0                     877.5   \n",
       "1                         0.0                       0.0   \n",
       "2                         0.0                       0.0   \n",
       "3                         0.0                       0.0   \n",
       "4                         0.0                   11547.0   \n",
       "\n",
       "   AMT_INST_MIN_REGULARITY  ...  AMT_RECIVABLE  AMT_TOTAL_RECEIVABLE  \\\n",
       "0              1700.324951  ...       0.000000              0.000000   \n",
       "1              2250.000000  ...   64875.554688          64875.554688   \n",
       "2              2250.000000  ...   31460.085938          31460.085938   \n",
       "3             11795.759766  ...  233048.968750         233048.968750   \n",
       "4             22924.890625  ...  453919.468750         453919.468750   \n",
       "\n",
       "   CNT_DRAWINGS_ATM_CURRENT  CNT_DRAWINGS_CURRENT  CNT_DRAWINGS_OTHER_CURRENT  \\\n",
       "0                       0.0                     1                         0.0   \n",
       "1                       1.0                     1                         0.0   \n",
       "2                       0.0                     0                         0.0   \n",
       "3                       1.0                     1                         0.0   \n",
       "4                       0.0                     1                         0.0   \n",
       "\n",
       "   CNT_DRAWINGS_POS_CURRENT  CNT_INSTALMENT_MATURE_CUM  NAME_CONTRACT_STATUS  \\\n",
       "0                       1.0                       35.0                Active   \n",
       "1                       0.0                       69.0                Active   \n",
       "2                       0.0                       30.0                Active   \n",
       "3                       0.0                       10.0                Active   \n",
       "4                       1.0                      101.0                Active   \n",
       "\n",
       "   SK_DPD  SK_DPD_DEF  \n",
       "0       0           0  \n",
       "1       0           0  \n",
       "2       0           0  \n",
       "3       0           0  \n",
       "4       0           0  \n",
       "\n",
       "[5 rows x 23 columns]"
      ]
     },
     "execution_count": 15,
     "metadata": {},
     "output_type": "execute_result"
    }
   ],
   "source": [
    "credit.head()"
   ]
  },
  {
   "cell_type": "code",
   "execution_count": 14,
   "metadata": {},
   "outputs": [
    {
     "data": {
      "text/html": [
       "<div>\n",
       "<style scoped>\n",
       "    .dataframe tbody tr th:only-of-type {\n",
       "        vertical-align: middle;\n",
       "    }\n",
       "\n",
       "    .dataframe tbody tr th {\n",
       "        vertical-align: top;\n",
       "    }\n",
       "\n",
       "    .dataframe thead th {\n",
       "        text-align: right;\n",
       "    }\n",
       "</style>\n",
       "<table border=\"1\" class=\"dataframe\">\n",
       "  <thead>\n",
       "    <tr style=\"text-align: right;\">\n",
       "      <th></th>\n",
       "      <th>SK_ID_BUREAU</th>\n",
       "      <th>MONTHS_BALANCE</th>\n",
       "      <th>STATUS</th>\n",
       "    </tr>\n",
       "  </thead>\n",
       "  <tbody>\n",
       "    <tr>\n",
       "      <th>0</th>\n",
       "      <td>5715448</td>\n",
       "      <td>0</td>\n",
       "      <td>C</td>\n",
       "    </tr>\n",
       "    <tr>\n",
       "      <th>1</th>\n",
       "      <td>5715448</td>\n",
       "      <td>-1</td>\n",
       "      <td>C</td>\n",
       "    </tr>\n",
       "    <tr>\n",
       "      <th>2</th>\n",
       "      <td>5715448</td>\n",
       "      <td>-2</td>\n",
       "      <td>C</td>\n",
       "    </tr>\n",
       "    <tr>\n",
       "      <th>3</th>\n",
       "      <td>5715448</td>\n",
       "      <td>-3</td>\n",
       "      <td>C</td>\n",
       "    </tr>\n",
       "    <tr>\n",
       "      <th>4</th>\n",
       "      <td>5715448</td>\n",
       "      <td>-4</td>\n",
       "      <td>C</td>\n",
       "    </tr>\n",
       "  </tbody>\n",
       "</table>\n",
       "</div>"
      ],
      "text/plain": [
       "   SK_ID_BUREAU  MONTHS_BALANCE STATUS\n",
       "0       5715448               0      C\n",
       "1       5715448              -1      C\n",
       "2       5715448              -2      C\n",
       "3       5715448              -3      C\n",
       "4       5715448              -4      C"
      ]
     },
     "execution_count": 14,
     "metadata": {},
     "output_type": "execute_result"
    }
   ],
   "source": [
    "bureau_balance.head()"
   ]
  },
  {
   "cell_type": "code",
   "execution_count": 16,
   "metadata": {},
   "outputs": [
    {
     "data": {
      "text/plain": [
       "SK_ID_CURR                   int32\n",
       "SK_ID_BUREAU                 int32\n",
       "CREDIT_ACTIVE             category\n",
       "CREDIT_CURRENCY           category\n",
       "DAYS_CREDIT                float32\n",
       "CREDIT_DAY_OVERDUE         float32\n",
       "DAYS_CREDIT_ENDDATE        float32\n",
       "DAYS_ENDDATE_FACT          float32\n",
       "AMT_CREDIT_MAX_OVERDUE     float32\n",
       "CNT_CREDIT_PROLONG         float32\n",
       "AMT_CREDIT_SUM             float32\n",
       "AMT_CREDIT_SUM_DEBT        float32\n",
       "AMT_CREDIT_SUM_LIMIT       float32\n",
       "AMT_CREDIT_SUM_OVERDUE     float32\n",
       "CREDIT_TYPE               category\n",
       "DAYS_CREDIT_UPDATE         float32\n",
       "AMT_ANNUITY                float32\n",
       "dtype: object"
      ]
     },
     "execution_count": 16,
     "metadata": {},
     "output_type": "execute_result"
    }
   ],
   "source": [
    "bureau.dtypes"
   ]
  },
  {
   "cell_type": "markdown",
   "metadata": {},
   "source": [
    "Feature Engineering with the usage of featuretools\n",
    "--"
   ]
  },
  {
   "cell_type": "code",
   "execution_count": 17,
   "metadata": {},
   "outputs": [],
   "source": [
    "    # Empty entityset\n",
    "    es = ft.EntitySet(id = 'clients')\n",
    "    \n",
    "    # Entities with a unique index\n",
    "    es = es.entity_from_dataframe(entity_id = 'app', dataframe = app, index = 'SK_ID_CURR')\n",
    "\n",
    "    es = es.entity_from_dataframe(entity_id = 'bureau', dataframe = bureau, index = 'SK_ID_BUREAU')\n",
    "\n",
    "    es = es.entity_from_dataframe(entity_id = 'previous', dataframe = previous, index = 'SK_ID_PREV')\n",
    "\n",
    "    # Entities that do not have a unique index\n",
    "    es = es.entity_from_dataframe(entity_id = 'bureau_balance', dataframe = bureau_balance, \n",
    "                                  make_index = True, index = 'bureaubalance_index')\n",
    "\n",
    "    es = es.entity_from_dataframe(entity_id = 'cash', dataframe = cash, \n",
    "                                  make_index = True, index = 'cash_index')\n",
    "\n",
    "    es = es.entity_from_dataframe(entity_id = 'installments', dataframe = installments,\n",
    "                                  make_index = True, index = 'installments_index')\n",
    "\n",
    "    es = es.entity_from_dataframe(entity_id = 'credit', dataframe = credit,\n",
    "                                  make_index = True, index = 'credit_index')"
   ]
  },
  {
   "cell_type": "code",
   "execution_count": 18,
   "metadata": {},
   "outputs": [],
   "source": [
    "    r_app_bureau = ft.Relationship(es['app']['SK_ID_CURR'], es['bureau']['SK_ID_CURR'])\n",
    "\n",
    "    # Relationship between bureau and bureau balance\n",
    "    r_bureau_balance = ft.Relationship(es['bureau']['SK_ID_BUREAU'], es['bureau_balance']['SK_ID_BUREAU'])\n",
    "\n",
    "    # Relationship between current app and previous apps\n",
    "    r_app_previous = ft.Relationship(es['app']['SK_ID_CURR'], es['previous']['SK_ID_CURR'])\n",
    "\n",
    "    # Relationships between previous apps and cash, installments, and credit\n",
    "    r_previous_cash = ft.Relationship(es['previous']['SK_ID_PREV'], es['cash']['SK_ID_PREV'])\n",
    "    r_previous_installments = ft.Relationship(es['previous']['SK_ID_PREV'], es['installments']['SK_ID_PREV'])\n",
    "    r_previous_credit = ft.Relationship(es['previous']['SK_ID_PREV'], es['credit']['SK_ID_PREV'])\n",
    "    \n",
    "    # Add in the defined relationships\n",
    "    es = es.add_relationships([r_app_bureau, r_bureau_balance, r_app_previous,\n",
    "                               r_previous_cash, r_previous_installments, r_previous_credit])"
   ]
  },
  {
   "cell_type": "code",
   "execution_count": 19,
   "metadata": {},
   "outputs": [
    {
     "name": "stdout",
     "output_type": "stream",
     "text": [
      "Built 1294 features\n"
     ]
    }
   ],
   "source": [
    "agg_primitives =  [\"sum\", \"max\", \"min\", \"mean\", \"count\", \"percent_true\", \"num_unique\", \"mode\"]\n",
    "# Deep feature synthesis \n",
    "feature_names = ft.dfs(entityset=es, target_entity='app',\n",
    "                       agg_primitives = agg_primitives,\n",
    "                       n_jobs = 1, verbose = 1,\n",
    "                       features_only = True,\n",
    "                       max_depth = 2)"
   ]
  },
  {
   "cell_type": "code",
   "execution_count": 20,
   "metadata": {},
   "outputs": [],
   "source": [
    "import datetime"
   ]
  },
  {
   "cell_type": "code",
   "execution_count": 22,
   "metadata": {},
   "outputs": [
    {
     "name": "stdout",
     "output_type": "stream",
     "text": [
      "2020-03-30 08:17:52.288074 2020-03-30 12:17:56.572946\n"
     ]
    }
   ],
   "source": [
    "now1 = datetime.datetime.now()\n",
    "\n",
    "feature_matrix = ft.calculate_feature_matrix(feature_names, \n",
    "                                             entityset=es, \n",
    "                                             n_jobs = 1, \n",
    "                                             verbose = 0,\n",
    "                                             chunk_size = 0.2 )\n",
    "\n",
    "now2 = datetime.datetime.now()\n",
    "print(now1,now2)"
   ]
  },
  {
   "cell_type": "code",
   "execution_count": 23,
   "metadata": {},
   "outputs": [],
   "source": [
    "import os\n",
    "feature_matrix.reset_index(inplace = True)\n",
    "\n",
    "if not os.path.exists('feature_matrix'):\n",
    "    os.makedirs('feature_matrix')\n",
    "\n",
    "feature_matrix.to_csv('feature_matrix/feature_matrix.csv', index = False)"
   ]
  },
  {
   "cell_type": "code",
   "execution_count": 67,
   "metadata": {},
   "outputs": [],
   "source": [
    "# Read the saved feature matrix.\n",
    "feature_matrix=pd.read_csv('feature_matrix/feature_matrix.csv')\n",
    "feature_matrix = convert_types(feature_matrix)"
   ]
  },
  {
   "cell_type": "code",
   "execution_count": 68,
   "metadata": {},
   "outputs": [
    {
     "name": "stdout",
     "output_type": "stream",
     "text": [
      "Shape:  (356255, 1295)\n"
     ]
    }
   ],
   "source": [
    "print('Shape: ', feature_matrix.shape)"
   ]
  },
  {
   "cell_type": "markdown",
   "metadata": {},
   "source": [
    "Feature selection\n",
    "--"
   ]
  },
  {
   "cell_type": "markdown",
   "metadata": {},
   "source": [
    "**Remove any columns built on the SK_ID_CURR**"
   ]
  },
  {
   "cell_type": "code",
   "execution_count": 69,
   "metadata": {},
   "outputs": [
    {
     "name": "stdout",
     "output_type": "stream",
     "text": [
      "There are 60 columns that contain SK_ID_CURR\n",
      "There are 0 columns that contain SK_ID_BUREAU\n",
      "There are 0 columns that contain SK_ID_PREV\n"
     ]
    }
   ],
   "source": [
    "cols_with_curr_id = [col for col in feature_matrix.columns if 'SK_ID_CURR' in col]\n",
    "cols_with_bureau_id = [col for col in feature_matrix.columns if 'SK_ID_BUREAU' in col]\n",
    "cols_with_previous_id = [col for col in feature_matrix.columns if 'SK_ID_PREV' in col]\n",
    "print('There are {} columns that contain SK_ID_CURR'.format( len(cols_with_curr_id)) )\n",
    "print('There are {} columns that contain SK_ID_BUREAU'.format( len(cols_with_bureau_id)) )\n",
    "print('There are {} columns that contain SK_ID_PREV'.format( len(cols_with_previous_id)) )"
   ]
  },
  {
   "cell_type": "code",
   "execution_count": 70,
   "metadata": {},
   "outputs": [
    {
     "name": "stdout",
     "output_type": "stream",
     "text": [
      "Shape:  (356255, 1235)\n"
     ]
    }
   ],
   "source": [
    "feature_matrix = feature_matrix.drop(columns = cols_with_curr_id)\n",
    "print('Shape: ', feature_matrix.shape)"
   ]
  },
  {
   "cell_type": "markdown",
   "metadata": {},
   "source": [
    "**Remove Missing Values**\n",
    "\n",
    "We must set up the minimum threshold of percentage of missing values for removing. Here we set up this threshold 60%. That means if any columns have greater than 60% missing values, they will be removed."
   ]
  },
  {
   "cell_type": "code",
   "execution_count": 74,
   "metadata": {},
   "outputs": [
    {
     "data": {
      "text/plain": [
       "MIN(credit.previous.RATE_INTEREST_PRIVILEGED)     1.0\n",
       "MAX(credit.previous.RATE_INTEREST_PRIMARY)        1.0\n",
       "MEAN(credit.previous.RATE_INTEREST_PRIVILEGED)    1.0\n",
       "MAX(credit.previous.DAYS_LAST_DUE_1ST_VERSION)    1.0\n",
       "MAX(credit.previous.RATE_INTEREST_PRIVILEGED)     1.0\n",
       "dtype: float64"
      ]
     },
     "execution_count": 74,
     "metadata": {},
     "output_type": "execute_result"
    }
   ],
   "source": [
    "# Missing values in percent\n",
    "feature_missing = (feature_matrix.isnull().sum() / len(feature_matrix)).sort_values(ascending = False)\n",
    "feature_missing.head()"
   ]
  },
  {
   "cell_type": "code",
   "execution_count": 75,
   "metadata": {},
   "outputs": [
    {
     "name": "stdout",
     "output_type": "stream",
     "text": [
      "There are 946 columns with missing values\n",
      "There are 397 columns with more 60.0% than missing values\n"
     ]
    }
   ],
   "source": [
    "# Identify missing values above threshold\n",
    "missing_threshold = 0.6\n",
    "feature_missing_0 = feature_missing.index[feature_missing > 0.5/feature_matrix.shape[0] ]\n",
    "feature_missing = feature_missing.index[feature_missing > missing_threshold]\n",
    "\n",
    "print('There are {} columns with missing values'.format( len(feature_missing_0) ) )\n",
    "print('There are {} columns with more than {}% missing values'.format( len(feature_missing), missing_threshold*100) )"
   ]
  },
  {
   "cell_type": "code",
   "execution_count": 78,
   "metadata": {},
   "outputs": [
    {
     "name": "stdout",
     "output_type": "stream",
     "text": [
      "Shape:  (356255, 838)\n"
     ]
    }
   ],
   "source": [
    "feature_matrix = feature_matrix.drop(columns = feature_missing)\n",
    "print('Shape: ', feature_matrix.shape)"
   ]
  },
  {
   "cell_type": "markdown",
   "metadata": {},
   "source": [
    "**Remove Collinear Variables**\n",
    "\n",
    "Collinear features lead to decreased generalization performance on the test set. In order to solve this problem, only one of the collinear feature is preserved and others are removed. In order to achieve this purpose, the correlation matrix must be calculated first. Then we traverse across the strickly upper triangular part of correlation matrix to remove a highly correlated variable (Here threshold = 0.9) in the column of the matrix."
   ]
  },
  {
   "cell_type": "code",
   "execution_count": 79,
   "metadata": {},
   "outputs": [
    {
     "data": {
      "text/html": [
       "<div>\n",
       "<style scoped>\n",
       "    .dataframe tbody tr th:only-of-type {\n",
       "        vertical-align: middle;\n",
       "    }\n",
       "\n",
       "    .dataframe tbody tr th {\n",
       "        vertical-align: top;\n",
       "    }\n",
       "\n",
       "    .dataframe thead th {\n",
       "        text-align: right;\n",
       "    }\n",
       "</style>\n",
       "<table border=\"1\" class=\"dataframe\">\n",
       "  <thead>\n",
       "    <tr style=\"text-align: right;\">\n",
       "      <th></th>\n",
       "      <th>AMT_ANNUITY</th>\n",
       "      <th>AMT_CREDIT</th>\n",
       "      <th>AMT_GOODS_PRICE</th>\n",
       "      <th>AMT_INCOME_TOTAL</th>\n",
       "      <th>AMT_REQ_CREDIT_BUREAU_DAY</th>\n",
       "      <th>AMT_REQ_CREDIT_BUREAU_HOUR</th>\n",
       "      <th>AMT_REQ_CREDIT_BUREAU_MON</th>\n",
       "      <th>AMT_REQ_CREDIT_BUREAU_QRT</th>\n",
       "      <th>AMT_REQ_CREDIT_BUREAU_WEEK</th>\n",
       "      <th>AMT_REQ_CREDIT_BUREAU_YEAR</th>\n",
       "      <th>...</th>\n",
       "      <th>SUM(credit.previous.AMT_CREDIT)</th>\n",
       "      <th>SUM(credit.previous.AMT_GOODS_PRICE)</th>\n",
       "      <th>SUM(credit.previous.NFLAG_INSURED_ON_APPROVAL)</th>\n",
       "      <th>SUM(credit.previous.SELLERPLACE_AREA)</th>\n",
       "      <th>SUM(credit.previous.DAYS_LAST_DUE)</th>\n",
       "      <th>SUM(credit.previous.DAYS_FIRST_DRAWING)</th>\n",
       "      <th>SUM(credit.previous.AMT_ANNUITY)</th>\n",
       "      <th>SUM(credit.previous.HOUR_APPR_PROCESS_START)</th>\n",
       "      <th>SUM(credit.previous.DAYS_DECISION)</th>\n",
       "      <th>PERCENT_TRUE(credit.previous.NFLAG_LAST_APPL_IN_DAY)</th>\n",
       "    </tr>\n",
       "  </thead>\n",
       "  <tbody>\n",
       "    <tr>\n",
       "      <th>AMT_ANNUITY</th>\n",
       "      <td>NaN</td>\n",
       "      <td>0.762521</td>\n",
       "      <td>0.768123</td>\n",
       "      <td>0.204391</td>\n",
       "      <td>0.001472</td>\n",
       "      <td>0.003162</td>\n",
       "      <td>0.029877</td>\n",
       "      <td>0.017053</td>\n",
       "      <td>0.009583</td>\n",
       "      <td>0.015458</td>\n",
       "      <td>...</td>\n",
       "      <td>0.030761</td>\n",
       "      <td>0.009676</td>\n",
       "      <td>0.003224</td>\n",
       "      <td>0.013448</td>\n",
       "      <td>0.020788</td>\n",
       "      <td>0.013295</td>\n",
       "      <td>0.031330</td>\n",
       "      <td>0.019343</td>\n",
       "      <td>0.015796</td>\n",
       "      <td>0.005610</td>\n",
       "    </tr>\n",
       "    <tr>\n",
       "      <th>AMT_CREDIT</th>\n",
       "      <td>NaN</td>\n",
       "      <td>NaN</td>\n",
       "      <td>0.987159</td>\n",
       "      <td>0.166590</td>\n",
       "      <td>0.005411</td>\n",
       "      <td>0.002333</td>\n",
       "      <td>0.058050</td>\n",
       "      <td>0.004341</td>\n",
       "      <td>0.002961</td>\n",
       "      <td>0.047656</td>\n",
       "      <td>...</td>\n",
       "      <td>0.044191</td>\n",
       "      <td>0.000673</td>\n",
       "      <td>0.008461</td>\n",
       "      <td>0.018851</td>\n",
       "      <td>0.041174</td>\n",
       "      <td>0.041111</td>\n",
       "      <td>0.044895</td>\n",
       "      <td>0.041083</td>\n",
       "      <td>0.044078</td>\n",
       "      <td>0.005019</td>\n",
       "    </tr>\n",
       "    <tr>\n",
       "      <th>AMT_GOODS_PRICE</th>\n",
       "      <td>NaN</td>\n",
       "      <td>NaN</td>\n",
       "      <td>NaN</td>\n",
       "      <td>0.169445</td>\n",
       "      <td>0.005816</td>\n",
       "      <td>0.001688</td>\n",
       "      <td>0.059851</td>\n",
       "      <td>0.004691</td>\n",
       "      <td>0.003229</td>\n",
       "      <td>0.050080</td>\n",
       "      <td>...</td>\n",
       "      <td>0.037172</td>\n",
       "      <td>0.004166</td>\n",
       "      <td>0.007913</td>\n",
       "      <td>0.017994</td>\n",
       "      <td>0.039672</td>\n",
       "      <td>0.036732</td>\n",
       "      <td>0.037896</td>\n",
       "      <td>0.035151</td>\n",
       "      <td>0.039540</td>\n",
       "      <td>0.005478</td>\n",
       "    </tr>\n",
       "    <tr>\n",
       "      <th>AMT_INCOME_TOTAL</th>\n",
       "      <td>NaN</td>\n",
       "      <td>NaN</td>\n",
       "      <td>NaN</td>\n",
       "      <td>NaN</td>\n",
       "      <td>0.002743</td>\n",
       "      <td>0.000767</td>\n",
       "      <td>0.022736</td>\n",
       "      <td>0.006712</td>\n",
       "      <td>0.001447</td>\n",
       "      <td>0.011153</td>\n",
       "      <td>...</td>\n",
       "      <td>0.033342</td>\n",
       "      <td>0.020313</td>\n",
       "      <td>0.000648</td>\n",
       "      <td>0.005811</td>\n",
       "      <td>0.006089</td>\n",
       "      <td>0.006888</td>\n",
       "      <td>0.033191</td>\n",
       "      <td>0.016191</td>\n",
       "      <td>0.007592</td>\n",
       "      <td>0.014562</td>\n",
       "    </tr>\n",
       "    <tr>\n",
       "      <th>AMT_REQ_CREDIT_BUREAU_DAY</th>\n",
       "      <td>NaN</td>\n",
       "      <td>NaN</td>\n",
       "      <td>NaN</td>\n",
       "      <td>NaN</td>\n",
       "      <td>NaN</td>\n",
       "      <td>0.227493</td>\n",
       "      <td>0.003313</td>\n",
       "      <td>0.005853</td>\n",
       "      <td>0.214474</td>\n",
       "      <td>0.003224</td>\n",
       "      <td>...</td>\n",
       "      <td>0.002717</td>\n",
       "      <td>0.001974</td>\n",
       "      <td>0.001722</td>\n",
       "      <td>0.002056</td>\n",
       "      <td>0.004050</td>\n",
       "      <td>0.002201</td>\n",
       "      <td>0.002812</td>\n",
       "      <td>0.000183</td>\n",
       "      <td>0.001099</td>\n",
       "      <td>0.003246</td>\n",
       "    </tr>\n",
       "  </tbody>\n",
       "</table>\n",
       "<p>5 rows × 770 columns</p>\n",
       "</div>"
      ],
      "text/plain": [
       "                           AMT_ANNUITY  AMT_CREDIT  AMT_GOODS_PRICE  \\\n",
       "AMT_ANNUITY                        NaN    0.762521         0.768123   \n",
       "AMT_CREDIT                         NaN         NaN         0.987159   \n",
       "AMT_GOODS_PRICE                    NaN         NaN              NaN   \n",
       "AMT_INCOME_TOTAL                   NaN         NaN              NaN   \n",
       "AMT_REQ_CREDIT_BUREAU_DAY          NaN         NaN              NaN   \n",
       "\n",
       "                           AMT_INCOME_TOTAL  AMT_REQ_CREDIT_BUREAU_DAY  \\\n",
       "AMT_ANNUITY                        0.204391                   0.001472   \n",
       "AMT_CREDIT                         0.166590                   0.005411   \n",
       "AMT_GOODS_PRICE                    0.169445                   0.005816   \n",
       "AMT_INCOME_TOTAL                        NaN                   0.002743   \n",
       "AMT_REQ_CREDIT_BUREAU_DAY               NaN                        NaN   \n",
       "\n",
       "                           AMT_REQ_CREDIT_BUREAU_HOUR  \\\n",
       "AMT_ANNUITY                                  0.003162   \n",
       "AMT_CREDIT                                   0.002333   \n",
       "AMT_GOODS_PRICE                              0.001688   \n",
       "AMT_INCOME_TOTAL                             0.000767   \n",
       "AMT_REQ_CREDIT_BUREAU_DAY                    0.227493   \n",
       "\n",
       "                           AMT_REQ_CREDIT_BUREAU_MON  \\\n",
       "AMT_ANNUITY                                 0.029877   \n",
       "AMT_CREDIT                                  0.058050   \n",
       "AMT_GOODS_PRICE                             0.059851   \n",
       "AMT_INCOME_TOTAL                            0.022736   \n",
       "AMT_REQ_CREDIT_BUREAU_DAY                   0.003313   \n",
       "\n",
       "                           AMT_REQ_CREDIT_BUREAU_QRT  \\\n",
       "AMT_ANNUITY                                 0.017053   \n",
       "AMT_CREDIT                                  0.004341   \n",
       "AMT_GOODS_PRICE                             0.004691   \n",
       "AMT_INCOME_TOTAL                            0.006712   \n",
       "AMT_REQ_CREDIT_BUREAU_DAY                   0.005853   \n",
       "\n",
       "                           AMT_REQ_CREDIT_BUREAU_WEEK  \\\n",
       "AMT_ANNUITY                                  0.009583   \n",
       "AMT_CREDIT                                   0.002961   \n",
       "AMT_GOODS_PRICE                              0.003229   \n",
       "AMT_INCOME_TOTAL                             0.001447   \n",
       "AMT_REQ_CREDIT_BUREAU_DAY                    0.214474   \n",
       "\n",
       "                           AMT_REQ_CREDIT_BUREAU_YEAR  ...  \\\n",
       "AMT_ANNUITY                                  0.015458  ...   \n",
       "AMT_CREDIT                                   0.047656  ...   \n",
       "AMT_GOODS_PRICE                              0.050080  ...   \n",
       "AMT_INCOME_TOTAL                             0.011153  ...   \n",
       "AMT_REQ_CREDIT_BUREAU_DAY                    0.003224  ...   \n",
       "\n",
       "                           SUM(credit.previous.AMT_CREDIT)  \\\n",
       "AMT_ANNUITY                                       0.030761   \n",
       "AMT_CREDIT                                        0.044191   \n",
       "AMT_GOODS_PRICE                                   0.037172   \n",
       "AMT_INCOME_TOTAL                                  0.033342   \n",
       "AMT_REQ_CREDIT_BUREAU_DAY                         0.002717   \n",
       "\n",
       "                           SUM(credit.previous.AMT_GOODS_PRICE)  \\\n",
       "AMT_ANNUITY                                            0.009676   \n",
       "AMT_CREDIT                                             0.000673   \n",
       "AMT_GOODS_PRICE                                        0.004166   \n",
       "AMT_INCOME_TOTAL                                       0.020313   \n",
       "AMT_REQ_CREDIT_BUREAU_DAY                              0.001974   \n",
       "\n",
       "                           SUM(credit.previous.NFLAG_INSURED_ON_APPROVAL)  \\\n",
       "AMT_ANNUITY                                                      0.003224   \n",
       "AMT_CREDIT                                                       0.008461   \n",
       "AMT_GOODS_PRICE                                                  0.007913   \n",
       "AMT_INCOME_TOTAL                                                 0.000648   \n",
       "AMT_REQ_CREDIT_BUREAU_DAY                                        0.001722   \n",
       "\n",
       "                           SUM(credit.previous.SELLERPLACE_AREA)  \\\n",
       "AMT_ANNUITY                                             0.013448   \n",
       "AMT_CREDIT                                              0.018851   \n",
       "AMT_GOODS_PRICE                                         0.017994   \n",
       "AMT_INCOME_TOTAL                                        0.005811   \n",
       "AMT_REQ_CREDIT_BUREAU_DAY                               0.002056   \n",
       "\n",
       "                           SUM(credit.previous.DAYS_LAST_DUE)  \\\n",
       "AMT_ANNUITY                                          0.020788   \n",
       "AMT_CREDIT                                           0.041174   \n",
       "AMT_GOODS_PRICE                                      0.039672   \n",
       "AMT_INCOME_TOTAL                                     0.006089   \n",
       "AMT_REQ_CREDIT_BUREAU_DAY                            0.004050   \n",
       "\n",
       "                           SUM(credit.previous.DAYS_FIRST_DRAWING)  \\\n",
       "AMT_ANNUITY                                               0.013295   \n",
       "AMT_CREDIT                                                0.041111   \n",
       "AMT_GOODS_PRICE                                           0.036732   \n",
       "AMT_INCOME_TOTAL                                          0.006888   \n",
       "AMT_REQ_CREDIT_BUREAU_DAY                                 0.002201   \n",
       "\n",
       "                           SUM(credit.previous.AMT_ANNUITY)  \\\n",
       "AMT_ANNUITY                                        0.031330   \n",
       "AMT_CREDIT                                         0.044895   \n",
       "AMT_GOODS_PRICE                                    0.037896   \n",
       "AMT_INCOME_TOTAL                                   0.033191   \n",
       "AMT_REQ_CREDIT_BUREAU_DAY                          0.002812   \n",
       "\n",
       "                           SUM(credit.previous.HOUR_APPR_PROCESS_START)  \\\n",
       "AMT_ANNUITY                                                    0.019343   \n",
       "AMT_CREDIT                                                     0.041083   \n",
       "AMT_GOODS_PRICE                                                0.035151   \n",
       "AMT_INCOME_TOTAL                                               0.016191   \n",
       "AMT_REQ_CREDIT_BUREAU_DAY                                      0.000183   \n",
       "\n",
       "                           SUM(credit.previous.DAYS_DECISION)  \\\n",
       "AMT_ANNUITY                                          0.015796   \n",
       "AMT_CREDIT                                           0.044078   \n",
       "AMT_GOODS_PRICE                                      0.039540   \n",
       "AMT_INCOME_TOTAL                                     0.007592   \n",
       "AMT_REQ_CREDIT_BUREAU_DAY                            0.001099   \n",
       "\n",
       "                           PERCENT_TRUE(credit.previous.NFLAG_LAST_APPL_IN_DAY)  \n",
       "AMT_ANNUITY                                                         0.005610     \n",
       "AMT_CREDIT                                                          0.005019     \n",
       "AMT_GOODS_PRICE                                                     0.005478     \n",
       "AMT_INCOME_TOTAL                                                    0.014562     \n",
       "AMT_REQ_CREDIT_BUREAU_DAY                                           0.003246     \n",
       "\n",
       "[5 rows x 770 columns]"
      ]
     },
     "execution_count": 79,
     "metadata": {},
     "output_type": "execute_result"
    }
   ],
   "source": [
    "# Absolute value correlation matrix\n",
    "corr_matrix = feature_matrix.corr().abs()\n",
    "# Upper triangle of correlations\n",
    "upper = corr_matrix.where(np.triu(np.ones(corr_matrix.shape), k=1).astype(np.bool))\n",
    "upper.head()"
   ]
  },
  {
   "cell_type": "code",
   "execution_count": 80,
   "metadata": {},
   "outputs": [
    {
     "data": {
      "text/html": [
       "<div>\n",
       "<style scoped>\n",
       "    .dataframe tbody tr th:only-of-type {\n",
       "        vertical-align: middle;\n",
       "    }\n",
       "\n",
       "    .dataframe tbody tr th {\n",
       "        vertical-align: top;\n",
       "    }\n",
       "\n",
       "    .dataframe thead th {\n",
       "        text-align: right;\n",
       "    }\n",
       "</style>\n",
       "<table border=\"1\" class=\"dataframe\">\n",
       "  <thead>\n",
       "    <tr style=\"text-align: right;\">\n",
       "      <th></th>\n",
       "      <th>AMT_ANNUITY</th>\n",
       "      <th>AMT_CREDIT</th>\n",
       "      <th>AMT_GOODS_PRICE</th>\n",
       "      <th>AMT_INCOME_TOTAL</th>\n",
       "      <th>AMT_REQ_CREDIT_BUREAU_DAY</th>\n",
       "      <th>AMT_REQ_CREDIT_BUREAU_HOUR</th>\n",
       "      <th>AMT_REQ_CREDIT_BUREAU_MON</th>\n",
       "      <th>AMT_REQ_CREDIT_BUREAU_QRT</th>\n",
       "      <th>AMT_REQ_CREDIT_BUREAU_WEEK</th>\n",
       "      <th>AMT_REQ_CREDIT_BUREAU_YEAR</th>\n",
       "      <th>...</th>\n",
       "      <th>SUM(credit.previous.AMT_CREDIT)</th>\n",
       "      <th>SUM(credit.previous.AMT_GOODS_PRICE)</th>\n",
       "      <th>SUM(credit.previous.NFLAG_INSURED_ON_APPROVAL)</th>\n",
       "      <th>SUM(credit.previous.SELLERPLACE_AREA)</th>\n",
       "      <th>SUM(credit.previous.DAYS_LAST_DUE)</th>\n",
       "      <th>SUM(credit.previous.DAYS_FIRST_DRAWING)</th>\n",
       "      <th>SUM(credit.previous.AMT_ANNUITY)</th>\n",
       "      <th>SUM(credit.previous.HOUR_APPR_PROCESS_START)</th>\n",
       "      <th>SUM(credit.previous.DAYS_DECISION)</th>\n",
       "      <th>PERCENT_TRUE(credit.previous.NFLAG_LAST_APPL_IN_DAY)</th>\n",
       "    </tr>\n",
       "  </thead>\n",
       "  <tbody>\n",
       "    <tr>\n",
       "      <th>AMT_ANNUITY</th>\n",
       "      <td>1.000000</td>\n",
       "      <td>0.762521</td>\n",
       "      <td>0.768123</td>\n",
       "      <td>0.204391</td>\n",
       "      <td>0.001472</td>\n",
       "      <td>0.003162</td>\n",
       "      <td>0.029877</td>\n",
       "      <td>0.017053</td>\n",
       "      <td>0.009583</td>\n",
       "      <td>0.015458</td>\n",
       "      <td>...</td>\n",
       "      <td>0.030761</td>\n",
       "      <td>0.009676</td>\n",
       "      <td>0.003224</td>\n",
       "      <td>0.013448</td>\n",
       "      <td>0.020788</td>\n",
       "      <td>0.013295</td>\n",
       "      <td>0.031330</td>\n",
       "      <td>0.019343</td>\n",
       "      <td>0.015796</td>\n",
       "      <td>0.005610</td>\n",
       "    </tr>\n",
       "    <tr>\n",
       "      <th>AMT_CREDIT</th>\n",
       "      <td>0.762521</td>\n",
       "      <td>1.000000</td>\n",
       "      <td>0.987159</td>\n",
       "      <td>0.166590</td>\n",
       "      <td>0.005411</td>\n",
       "      <td>0.002333</td>\n",
       "      <td>0.058050</td>\n",
       "      <td>0.004341</td>\n",
       "      <td>0.002961</td>\n",
       "      <td>0.047656</td>\n",
       "      <td>...</td>\n",
       "      <td>0.044191</td>\n",
       "      <td>0.000673</td>\n",
       "      <td>0.008461</td>\n",
       "      <td>0.018851</td>\n",
       "      <td>0.041174</td>\n",
       "      <td>0.041111</td>\n",
       "      <td>0.044895</td>\n",
       "      <td>0.041083</td>\n",
       "      <td>0.044078</td>\n",
       "      <td>0.005019</td>\n",
       "    </tr>\n",
       "    <tr>\n",
       "      <th>AMT_GOODS_PRICE</th>\n",
       "      <td>0.768123</td>\n",
       "      <td>0.987159</td>\n",
       "      <td>1.000000</td>\n",
       "      <td>0.169445</td>\n",
       "      <td>0.005816</td>\n",
       "      <td>0.001688</td>\n",
       "      <td>0.059851</td>\n",
       "      <td>0.004691</td>\n",
       "      <td>0.003229</td>\n",
       "      <td>0.050080</td>\n",
       "      <td>...</td>\n",
       "      <td>0.037172</td>\n",
       "      <td>0.004166</td>\n",
       "      <td>0.007913</td>\n",
       "      <td>0.017994</td>\n",
       "      <td>0.039672</td>\n",
       "      <td>0.036732</td>\n",
       "      <td>0.037896</td>\n",
       "      <td>0.035151</td>\n",
       "      <td>0.039540</td>\n",
       "      <td>0.005478</td>\n",
       "    </tr>\n",
       "    <tr>\n",
       "      <th>AMT_INCOME_TOTAL</th>\n",
       "      <td>0.204391</td>\n",
       "      <td>0.166590</td>\n",
       "      <td>0.169445</td>\n",
       "      <td>1.000000</td>\n",
       "      <td>0.002743</td>\n",
       "      <td>0.000767</td>\n",
       "      <td>0.022736</td>\n",
       "      <td>0.006712</td>\n",
       "      <td>0.001447</td>\n",
       "      <td>0.011153</td>\n",
       "      <td>...</td>\n",
       "      <td>0.033342</td>\n",
       "      <td>0.020313</td>\n",
       "      <td>0.000648</td>\n",
       "      <td>0.005811</td>\n",
       "      <td>0.006089</td>\n",
       "      <td>0.006888</td>\n",
       "      <td>0.033191</td>\n",
       "      <td>0.016191</td>\n",
       "      <td>0.007592</td>\n",
       "      <td>0.014562</td>\n",
       "    </tr>\n",
       "    <tr>\n",
       "      <th>AMT_REQ_CREDIT_BUREAU_DAY</th>\n",
       "      <td>0.001472</td>\n",
       "      <td>0.005411</td>\n",
       "      <td>0.005816</td>\n",
       "      <td>0.002743</td>\n",
       "      <td>1.000000</td>\n",
       "      <td>0.227493</td>\n",
       "      <td>0.003313</td>\n",
       "      <td>0.005853</td>\n",
       "      <td>0.214474</td>\n",
       "      <td>0.003224</td>\n",
       "      <td>...</td>\n",
       "      <td>0.002717</td>\n",
       "      <td>0.001974</td>\n",
       "      <td>0.001722</td>\n",
       "      <td>0.002056</td>\n",
       "      <td>0.004050</td>\n",
       "      <td>0.002201</td>\n",
       "      <td>0.002812</td>\n",
       "      <td>0.000183</td>\n",
       "      <td>0.001099</td>\n",
       "      <td>0.003246</td>\n",
       "    </tr>\n",
       "  </tbody>\n",
       "</table>\n",
       "<p>5 rows × 770 columns</p>\n",
       "</div>"
      ],
      "text/plain": [
       "                           AMT_ANNUITY  AMT_CREDIT  AMT_GOODS_PRICE  \\\n",
       "AMT_ANNUITY                   1.000000    0.762521         0.768123   \n",
       "AMT_CREDIT                    0.762521    1.000000         0.987159   \n",
       "AMT_GOODS_PRICE               0.768123    0.987159         1.000000   \n",
       "AMT_INCOME_TOTAL              0.204391    0.166590         0.169445   \n",
       "AMT_REQ_CREDIT_BUREAU_DAY     0.001472    0.005411         0.005816   \n",
       "\n",
       "                           AMT_INCOME_TOTAL  AMT_REQ_CREDIT_BUREAU_DAY  \\\n",
       "AMT_ANNUITY                        0.204391                   0.001472   \n",
       "AMT_CREDIT                         0.166590                   0.005411   \n",
       "AMT_GOODS_PRICE                    0.169445                   0.005816   \n",
       "AMT_INCOME_TOTAL                   1.000000                   0.002743   \n",
       "AMT_REQ_CREDIT_BUREAU_DAY          0.002743                   1.000000   \n",
       "\n",
       "                           AMT_REQ_CREDIT_BUREAU_HOUR  \\\n",
       "AMT_ANNUITY                                  0.003162   \n",
       "AMT_CREDIT                                   0.002333   \n",
       "AMT_GOODS_PRICE                              0.001688   \n",
       "AMT_INCOME_TOTAL                             0.000767   \n",
       "AMT_REQ_CREDIT_BUREAU_DAY                    0.227493   \n",
       "\n",
       "                           AMT_REQ_CREDIT_BUREAU_MON  \\\n",
       "AMT_ANNUITY                                 0.029877   \n",
       "AMT_CREDIT                                  0.058050   \n",
       "AMT_GOODS_PRICE                             0.059851   \n",
       "AMT_INCOME_TOTAL                            0.022736   \n",
       "AMT_REQ_CREDIT_BUREAU_DAY                   0.003313   \n",
       "\n",
       "                           AMT_REQ_CREDIT_BUREAU_QRT  \\\n",
       "AMT_ANNUITY                                 0.017053   \n",
       "AMT_CREDIT                                  0.004341   \n",
       "AMT_GOODS_PRICE                             0.004691   \n",
       "AMT_INCOME_TOTAL                            0.006712   \n",
       "AMT_REQ_CREDIT_BUREAU_DAY                   0.005853   \n",
       "\n",
       "                           AMT_REQ_CREDIT_BUREAU_WEEK  \\\n",
       "AMT_ANNUITY                                  0.009583   \n",
       "AMT_CREDIT                                   0.002961   \n",
       "AMT_GOODS_PRICE                              0.003229   \n",
       "AMT_INCOME_TOTAL                             0.001447   \n",
       "AMT_REQ_CREDIT_BUREAU_DAY                    0.214474   \n",
       "\n",
       "                           AMT_REQ_CREDIT_BUREAU_YEAR  ...  \\\n",
       "AMT_ANNUITY                                  0.015458  ...   \n",
       "AMT_CREDIT                                   0.047656  ...   \n",
       "AMT_GOODS_PRICE                              0.050080  ...   \n",
       "AMT_INCOME_TOTAL                             0.011153  ...   \n",
       "AMT_REQ_CREDIT_BUREAU_DAY                    0.003224  ...   \n",
       "\n",
       "                           SUM(credit.previous.AMT_CREDIT)  \\\n",
       "AMT_ANNUITY                                       0.030761   \n",
       "AMT_CREDIT                                        0.044191   \n",
       "AMT_GOODS_PRICE                                   0.037172   \n",
       "AMT_INCOME_TOTAL                                  0.033342   \n",
       "AMT_REQ_CREDIT_BUREAU_DAY                         0.002717   \n",
       "\n",
       "                           SUM(credit.previous.AMT_GOODS_PRICE)  \\\n",
       "AMT_ANNUITY                                            0.009676   \n",
       "AMT_CREDIT                                             0.000673   \n",
       "AMT_GOODS_PRICE                                        0.004166   \n",
       "AMT_INCOME_TOTAL                                       0.020313   \n",
       "AMT_REQ_CREDIT_BUREAU_DAY                              0.001974   \n",
       "\n",
       "                           SUM(credit.previous.NFLAG_INSURED_ON_APPROVAL)  \\\n",
       "AMT_ANNUITY                                                      0.003224   \n",
       "AMT_CREDIT                                                       0.008461   \n",
       "AMT_GOODS_PRICE                                                  0.007913   \n",
       "AMT_INCOME_TOTAL                                                 0.000648   \n",
       "AMT_REQ_CREDIT_BUREAU_DAY                                        0.001722   \n",
       "\n",
       "                           SUM(credit.previous.SELLERPLACE_AREA)  \\\n",
       "AMT_ANNUITY                                             0.013448   \n",
       "AMT_CREDIT                                              0.018851   \n",
       "AMT_GOODS_PRICE                                         0.017994   \n",
       "AMT_INCOME_TOTAL                                        0.005811   \n",
       "AMT_REQ_CREDIT_BUREAU_DAY                               0.002056   \n",
       "\n",
       "                           SUM(credit.previous.DAYS_LAST_DUE)  \\\n",
       "AMT_ANNUITY                                          0.020788   \n",
       "AMT_CREDIT                                           0.041174   \n",
       "AMT_GOODS_PRICE                                      0.039672   \n",
       "AMT_INCOME_TOTAL                                     0.006089   \n",
       "AMT_REQ_CREDIT_BUREAU_DAY                            0.004050   \n",
       "\n",
       "                           SUM(credit.previous.DAYS_FIRST_DRAWING)  \\\n",
       "AMT_ANNUITY                                               0.013295   \n",
       "AMT_CREDIT                                                0.041111   \n",
       "AMT_GOODS_PRICE                                           0.036732   \n",
       "AMT_INCOME_TOTAL                                          0.006888   \n",
       "AMT_REQ_CREDIT_BUREAU_DAY                                 0.002201   \n",
       "\n",
       "                           SUM(credit.previous.AMT_ANNUITY)  \\\n",
       "AMT_ANNUITY                                        0.031330   \n",
       "AMT_CREDIT                                         0.044895   \n",
       "AMT_GOODS_PRICE                                    0.037896   \n",
       "AMT_INCOME_TOTAL                                   0.033191   \n",
       "AMT_REQ_CREDIT_BUREAU_DAY                          0.002812   \n",
       "\n",
       "                           SUM(credit.previous.HOUR_APPR_PROCESS_START)  \\\n",
       "AMT_ANNUITY                                                    0.019343   \n",
       "AMT_CREDIT                                                     0.041083   \n",
       "AMT_GOODS_PRICE                                                0.035151   \n",
       "AMT_INCOME_TOTAL                                               0.016191   \n",
       "AMT_REQ_CREDIT_BUREAU_DAY                                      0.000183   \n",
       "\n",
       "                           SUM(credit.previous.DAYS_DECISION)  \\\n",
       "AMT_ANNUITY                                          0.015796   \n",
       "AMT_CREDIT                                           0.044078   \n",
       "AMT_GOODS_PRICE                                      0.039540   \n",
       "AMT_INCOME_TOTAL                                     0.007592   \n",
       "AMT_REQ_CREDIT_BUREAU_DAY                            0.001099   \n",
       "\n",
       "                           PERCENT_TRUE(credit.previous.NFLAG_LAST_APPL_IN_DAY)  \n",
       "AMT_ANNUITY                                                         0.005610     \n",
       "AMT_CREDIT                                                          0.005019     \n",
       "AMT_GOODS_PRICE                                                     0.005478     \n",
       "AMT_INCOME_TOTAL                                                    0.014562     \n",
       "AMT_REQ_CREDIT_BUREAU_DAY                                           0.003246     \n",
       "\n",
       "[5 rows x 770 columns]"
      ]
     },
     "execution_count": 80,
     "metadata": {},
     "output_type": "execute_result"
    }
   ],
   "source": [
    "corr_matrix.head()"
   ]
  },
  {
   "cell_type": "code",
   "execution_count": 82,
   "metadata": {},
   "outputs": [
    {
     "name": "stdout",
     "output_type": "stream",
     "text": [
      "There are 381 columns to remove.\n"
     ]
    }
   ],
   "source": [
    "# Identigy the threshold for removing correlated variables\n",
    "corr_threshold = 0.9\n",
    "# Select columns with correlations above threshold\n",
    "feature_collinear = [col for col in upper.columns if any(upper[col] > corr_threshold)]\n",
    "\n",
    "print('There are {} columns to remove.'.format( len(feature_collinear) ) )"
   ]
  },
  {
   "cell_type": "code",
   "execution_count": 83,
   "metadata": {},
   "outputs": [
    {
     "name": "stdout",
     "output_type": "stream",
     "text": [
      "Shape:  (356255, 457)\n"
     ]
    }
   ],
   "source": [
    "feature_matrix = feature_matrix.drop(columns = feature_collinear)\n",
    "print('Shape: ', feature_matrix.shape)"
   ]
  },
  {
   "cell_type": "markdown",
   "metadata": {},
   "source": [
    "Encode the categorical variables\n",
    "--\n",
    "Label encoder for categorical variables with 2 unique categories (or 1 categories + np.nan) and One-hot Encoder for categorical variables with more than 2 unique categories."
   ]
  },
  {
   "cell_type": "code",
   "execution_count": 92,
   "metadata": {},
   "outputs": [
    {
     "name": "stdout",
     "output_type": "stream",
     "text": [
      "2 ['Y' nan]\n",
      "2 ['XAP' nan]\n",
      "2 ['Approved' nan]\n",
      "2 ['Y' nan]\n",
      "2 ['Approved' nan]\n",
      "5 columns were label encoded.\n"
     ]
    }
   ],
   "source": [
    "# Create a label encoder object\n",
    "le = LabelEncoder()\n",
    "le_count = 0\n",
    "\n",
    "# Iterate through the columns\n",
    "for col in feature_matrix.columns:\n",
    "    if (feature_matrix[col].dtype.name == 'object' or feature_matrix[col].dtype.name == 'category'):\n",
    "        # If 2 or fewer unique categories\n",
    "        if len(list(feature_matrix[col].unique())) <= 2:\n",
    "            print(col ,feature_matrix[col].unique())\n",
    "            if( feature_matrix[col].dtype.name == 'category' and feature_matrix[col].isnull().sum() > 0 ):\n",
    "                feature_matrix[col] = feature_matrix[col].cat.add_categories(['NA'])\n",
    "            feature_matrix[col].fillna('NA', inplace=True)\n",
    "            le.fit(feature_matrix[col])\n",
    "            feature_matrix[col] = le.transform(feature_matrix[col])\n",
    "            # number of columns were label encoded\n",
    "            le_count += 1\n",
    "print('{} columns were label encoded.'.format(le_count) )"
   ]
  },
  {
   "cell_type": "code",
   "execution_count": 93,
   "metadata": {},
   "outputs": [
    {
     "name": "stdout",
     "output_type": "stream",
     "text": [
      "shape (356255, 1004)\n"
     ]
    }
   ],
   "source": [
    "# Get one-hot encoder\n",
    "feature_matrix = pd.get_dummies( feature_matrix, dummy_na=True )\n",
    "print('shape', feature_matrix.shape )"
   ]
  },
  {
   "cell_type": "markdown",
   "metadata": {},
   "source": [
    "Split the train and submission data\n",
    "--"
   ]
  },
  {
   "cell_type": "code",
   "execution_count": 97,
   "metadata": {},
   "outputs": [
    {
     "name": "stdout",
     "output_type": "stream",
     "text": [
      "Int64Index([307511, 307512, 307513, 307514, 307515, 307516, 307517, 307518,\n",
      "            307519, 307520,\n",
      "            ...\n",
      "            356245, 356246, 356247, 356248, 356249, 356250, 356251, 356252,\n",
      "            356253, 356254],\n",
      "           dtype='int64', length=48744)\n"
     ]
    }
   ],
   "source": [
    "print(feature_matrix.TARGET.isnull()[feature_matrix.TARGET.isnull()==True].index)"
   ]
  },
  {
   "cell_type": "code",
   "execution_count": 98,
   "metadata": {},
   "outputs": [
    {
     "name": "stdout",
     "output_type": "stream",
     "text": [
      "307511\n"
     ]
    }
   ],
   "source": [
    "N_train = feature_matrix.TARGET.isnull()[feature_matrix.TARGET.isnull()==True].index[0]\n",
    "print(N_train)"
   ]
  },
  {
   "cell_type": "code",
   "execution_count": 99,
   "metadata": {},
   "outputs": [],
   "source": [
    "train_data = feature_matrix[:N_train]\n",
    "submission_data = feature_matrix[N_train:]"
   ]
  },
  {
   "cell_type": "code",
   "execution_count": null,
   "metadata": {},
   "outputs": [],
   "source": []
  },
  {
   "cell_type": "markdown",
   "metadata": {},
   "source": [
    "Split the train and test data\n",
    "--"
   ]
  },
  {
   "cell_type": "code",
   "execution_count": 100,
   "metadata": {},
   "outputs": [],
   "source": [
    "features_input = []\n",
    "for col in train_data.columns:\n",
    "    if col != 'TARGET':\n",
    "      features_input.append( col )"
   ]
  },
  {
   "cell_type": "code",
   "execution_count": 101,
   "metadata": {},
   "outputs": [],
   "source": [
    "X_train, X_test, y_train, y_test = train_test_split( train_data[features_input] , train_data['TARGET'] , test_size = 0.2  )"
   ]
  },
  {
   "cell_type": "markdown",
   "metadata": {},
   "source": [
    "Train the XGBoost classification model with grid search\n",
    "--\n",
    "The package supporting missing value imputation should be used because there are still many missing values we don't want to handle manually. Here XGBoost is chosen, LightGBM is also an ideal choice. Here the tree model is chosen as the base model because the attribute feature_importance is favorable."
   ]
  },
  {
   "cell_type": "code",
   "execution_count": 108,
   "metadata": {},
   "outputs": [],
   "source": [
    "# next step: choose more max_depth\n",
    "param_grid = {\n",
    "    'max_depth': [ 5],\n",
    "    'n_estimators': [100]\n",
    "}\n",
    "\n",
    "model = GridSearchCV( xgb.XGBClassifier() , param_grid = param_grid , scoring  = 'roc_auc', cv = 5, verbose=4, n_jobs=1)"
   ]
  },
  {
   "cell_type": "code",
   "execution_count": 109,
   "metadata": {},
   "outputs": [
    {
     "name": "stdout",
     "output_type": "stream",
     "text": [
      "Fitting 5 folds for each of 1 candidates, totalling 5 fits\n",
      "[CV] max_depth=5, n_estimators=100 ...................................\n"
     ]
    },
    {
     "name": "stderr",
     "output_type": "stream",
     "text": [
      "[Parallel(n_jobs=1)]: Using backend SequentialBackend with 1 concurrent workers.\n"
     ]
    },
    {
     "name": "stdout",
     "output_type": "stream",
     "text": [
      "[CV] ....... max_depth=5, n_estimators=100, score=0.774, total=34.2min\n"
     ]
    },
    {
     "name": "stderr",
     "output_type": "stream",
     "text": [
      "[Parallel(n_jobs=1)]: Done   1 out of   1 | elapsed: 34.2min remaining:    0.0s\n"
     ]
    },
    {
     "name": "stdout",
     "output_type": "stream",
     "text": [
      "[CV] max_depth=5, n_estimators=100 ...................................\n",
      "[CV] ....... max_depth=5, n_estimators=100, score=0.771, total=34.6min\n",
      "[CV] max_depth=5, n_estimators=100 ...................................\n"
     ]
    },
    {
     "name": "stderr",
     "output_type": "stream",
     "text": [
      "[Parallel(n_jobs=1)]: Done   2 out of   2 | elapsed: 68.9min remaining:    0.0s\n"
     ]
    },
    {
     "name": "stdout",
     "output_type": "stream",
     "text": [
      "[CV] ....... max_depth=5, n_estimators=100, score=0.778, total=30.0min\n",
      "[CV] max_depth=5, n_estimators=100 ...................................\n"
     ]
    },
    {
     "name": "stderr",
     "output_type": "stream",
     "text": [
      "[Parallel(n_jobs=1)]: Done   3 out of   3 | elapsed: 98.9min remaining:    0.0s\n"
     ]
    },
    {
     "name": "stdout",
     "output_type": "stream",
     "text": [
      "[CV] ....... max_depth=5, n_estimators=100, score=0.769, total=34.1min\n",
      "[CV] max_depth=5, n_estimators=100 ...................................\n",
      "[CV] ....... max_depth=5, n_estimators=100, score=0.771, total=33.4min\n"
     ]
    },
    {
     "name": "stderr",
     "output_type": "stream",
     "text": [
      "[Parallel(n_jobs=1)]: Done   5 out of   5 | elapsed: 166.4min finished\n"
     ]
    },
    {
     "data": {
      "text/plain": [
       "GridSearchCV(cv=5, error_score='raise-deprecating',\n",
       "             estimator=XGBClassifier(base_score=0.5, booster='gbtree',\n",
       "                                     colsample_bylevel=1, colsample_bynode=1,\n",
       "                                     colsample_bytree=1, gamma=0,\n",
       "                                     learning_rate=0.1, max_delta_step=0,\n",
       "                                     max_depth=3, min_child_weight=1,\n",
       "                                     missing=None, n_estimators=100, n_jobs=1,\n",
       "                                     nthread=None, objective='binary:logistic',\n",
       "                                     random_state=0, reg_alpha=0, reg_lambda=1,\n",
       "                                     scale_pos_weight=1, seed=None, silent=None,\n",
       "                                     subsample=1, verbosity=1),\n",
       "             iid='warn', n_jobs=1,\n",
       "             param_grid={'max_depth': [5], 'n_estimators': [100]},\n",
       "             pre_dispatch='2*n_jobs', refit=True, return_train_score=False,\n",
       "             scoring='roc_auc', verbose=4)"
      ]
     },
     "execution_count": 109,
     "metadata": {},
     "output_type": "execute_result"
    }
   ],
   "source": [
    "model.fit( X_train, y_train )"
   ]
  },
  {
   "cell_type": "code",
   "execution_count": 114,
   "metadata": {},
   "outputs": [],
   "source": [
    "#save the trained model\n",
    "pkl_filename = \"feature_matrix/xgb_cv.pkl\"\n",
    "with open(pkl_filename, 'wb') as file:\n",
    "    pickle.dump(model, file)"
   ]
  },
  {
   "cell_type": "code",
   "execution_count": null,
   "metadata": {},
   "outputs": [],
   "source": [
    "# Load from file. If there is trained model and we want to use it directly, uncomment these the following lines.\n",
    "#pkl_filename = \"feature_matrix/xgb_cv.pkl\"\n",
    "#with open(pkl_filename, 'rb') as file:\n",
    "#    pickle_model = pickle.load(file)"
   ]
  },
  {
   "cell_type": "code",
   "execution_count": 115,
   "metadata": {},
   "outputs": [
    {
     "name": "stdout",
     "output_type": "stream",
     "text": [
      "XGBClassifier(base_score=0.5, booster='gbtree', colsample_bylevel=1,\n",
      "              colsample_bynode=1, colsample_bytree=1, gamma=0,\n",
      "              learning_rate=0.1, max_delta_step=0, max_depth=5,\n",
      "              min_child_weight=1, missing=None, n_estimators=100, n_jobs=1,\n",
      "              nthread=None, objective='binary:logistic', random_state=0,\n",
      "              reg_alpha=0, reg_lambda=1, scale_pos_weight=1, seed=None,\n",
      "              silent=None, subsample=1, verbosity=1)\n",
      "0.7727704642388527\n"
     ]
    }
   ],
   "source": [
    "print(model.best_estimator_)\n",
    "print(model.best_score_)"
   ]
  },
  {
   "cell_type": "markdown",
   "metadata": {},
   "source": [
    "Make prediction on the submission data\n",
    "--"
   ]
  },
  {
   "cell_type": "code",
   "execution_count": 127,
   "metadata": {},
   "outputs": [],
   "source": [
    "prediction = model.best_estimator_.predict_proba(X_test)[:, 1]"
   ]
  },
  {
   "cell_type": "code",
   "execution_count": 117,
   "metadata": {},
   "outputs": [
    {
     "name": "stdout",
     "output_type": "stream",
     "text": [
      "roc_auc 0.7703464935083872\n"
     ]
    }
   ],
   "source": [
    "roc_auc = roc_auc_score(y_true=y_test, y_score= prediction)\n",
    "print(\"roc_auc\",roc_auc)"
   ]
  },
  {
   "cell_type": "code",
   "execution_count": 118,
   "metadata": {},
   "outputs": [],
   "source": [
    "submission_prediction = model.best_estimator_.predict_proba(submission_data[features_input])[:, 1]"
   ]
  },
  {
   "cell_type": "code",
   "execution_count": 125,
   "metadata": {},
   "outputs": [
    {
     "name": "stdout",
     "output_type": "stream",
     "text": [
      "48744 [0.05690423 0.13115685 0.02771353 ... 0.01806962 0.03141293 0.17831348]\n"
     ]
    }
   ],
   "source": [
    "print(len(submission_prediction),submission_prediction)"
   ]
  },
  {
   "cell_type": "code",
   "execution_count": 120,
   "metadata": {},
   "outputs": [
    {
     "data": {
      "text/plain": [
       "0        100001\n",
       "1        100005\n",
       "2        100013\n",
       "3        100028\n",
       "4        100038\n",
       "5        100042\n",
       "6        100057\n",
       "7        100065\n",
       "8        100066\n",
       "9        100067\n",
       "10       100074\n",
       "11       100090\n",
       "12       100091\n",
       "13       100092\n",
       "14       100106\n",
       "15       100107\n",
       "16       100109\n",
       "17       100117\n",
       "18       100128\n",
       "19       100141\n",
       "20       100150\n",
       "21       100168\n",
       "22       100169\n",
       "23       100170\n",
       "24       100171\n",
       "25       100172\n",
       "26       100184\n",
       "27       100187\n",
       "28       100212\n",
       "29       100222\n",
       "          ...  \n",
       "48714    455963\n",
       "48715    455965\n",
       "48716    456007\n",
       "48717    456008\n",
       "48718    456009\n",
       "48719    456010\n",
       "48720    456011\n",
       "48721    456013\n",
       "48722    456028\n",
       "48723    456058\n",
       "48724    456111\n",
       "48725    456114\n",
       "48726    456115\n",
       "48727    456116\n",
       "48728    456119\n",
       "48729    456120\n",
       "48730    456122\n",
       "48731    456123\n",
       "48732    456166\n",
       "48733    456167\n",
       "48734    456168\n",
       "48735    456169\n",
       "48736    456170\n",
       "48737    456189\n",
       "48738    456202\n",
       "48739    456221\n",
       "48740    456222\n",
       "48741    456223\n",
       "48742    456224\n",
       "48743    456250\n",
       "Name: SK_ID_CURR, Length: 48744, dtype: int64"
      ]
     },
     "execution_count": 120,
     "metadata": {},
     "output_type": "execute_result"
    }
   ],
   "source": [
    "app_test['SK_ID_CURR']"
   ]
  },
  {
   "cell_type": "code",
   "execution_count": 123,
   "metadata": {},
   "outputs": [],
   "source": [
    "submission = pd.DataFrame({'SK_ID_CURR':app_test['SK_ID_CURR'], 'TARGET': submission_prediction})"
   ]
  },
  {
   "cell_type": "code",
   "execution_count": 124,
   "metadata": {},
   "outputs": [
    {
     "data": {
      "text/html": [
       "<div>\n",
       "<style scoped>\n",
       "    .dataframe tbody tr th:only-of-type {\n",
       "        vertical-align: middle;\n",
       "    }\n",
       "\n",
       "    .dataframe tbody tr th {\n",
       "        vertical-align: top;\n",
       "    }\n",
       "\n",
       "    .dataframe thead th {\n",
       "        text-align: right;\n",
       "    }\n",
       "</style>\n",
       "<table border=\"1\" class=\"dataframe\">\n",
       "  <thead>\n",
       "    <tr style=\"text-align: right;\">\n",
       "      <th></th>\n",
       "      <th>SK_ID_CURR</th>\n",
       "      <th>TARGET</th>\n",
       "    </tr>\n",
       "  </thead>\n",
       "  <tbody>\n",
       "    <tr>\n",
       "      <th>0</th>\n",
       "      <td>100001</td>\n",
       "      <td>0.056904</td>\n",
       "    </tr>\n",
       "    <tr>\n",
       "      <th>1</th>\n",
       "      <td>100005</td>\n",
       "      <td>0.131157</td>\n",
       "    </tr>\n",
       "    <tr>\n",
       "      <th>2</th>\n",
       "      <td>100013</td>\n",
       "      <td>0.027714</td>\n",
       "    </tr>\n",
       "    <tr>\n",
       "      <th>3</th>\n",
       "      <td>100028</td>\n",
       "      <td>0.038743</td>\n",
       "    </tr>\n",
       "    <tr>\n",
       "      <th>4</th>\n",
       "      <td>100038</td>\n",
       "      <td>0.166512</td>\n",
       "    </tr>\n",
       "    <tr>\n",
       "      <th>5</th>\n",
       "      <td>100042</td>\n",
       "      <td>0.043595</td>\n",
       "    </tr>\n",
       "    <tr>\n",
       "      <th>6</th>\n",
       "      <td>100057</td>\n",
       "      <td>0.019209</td>\n",
       "    </tr>\n",
       "    <tr>\n",
       "      <th>7</th>\n",
       "      <td>100065</td>\n",
       "      <td>0.028271</td>\n",
       "    </tr>\n",
       "    <tr>\n",
       "      <th>8</th>\n",
       "      <td>100066</td>\n",
       "      <td>0.022901</td>\n",
       "    </tr>\n",
       "    <tr>\n",
       "      <th>9</th>\n",
       "      <td>100067</td>\n",
       "      <td>0.079798</td>\n",
       "    </tr>\n",
       "    <tr>\n",
       "      <th>10</th>\n",
       "      <td>100074</td>\n",
       "      <td>0.044409</td>\n",
       "    </tr>\n",
       "    <tr>\n",
       "      <th>11</th>\n",
       "      <td>100090</td>\n",
       "      <td>0.050482</td>\n",
       "    </tr>\n",
       "    <tr>\n",
       "      <th>12</th>\n",
       "      <td>100091</td>\n",
       "      <td>0.170411</td>\n",
       "    </tr>\n",
       "    <tr>\n",
       "      <th>13</th>\n",
       "      <td>100092</td>\n",
       "      <td>0.112151</td>\n",
       "    </tr>\n",
       "    <tr>\n",
       "      <th>14</th>\n",
       "      <td>100106</td>\n",
       "      <td>0.045583</td>\n",
       "    </tr>\n",
       "    <tr>\n",
       "      <th>15</th>\n",
       "      <td>100107</td>\n",
       "      <td>0.120376</td>\n",
       "    </tr>\n",
       "    <tr>\n",
       "      <th>16</th>\n",
       "      <td>100109</td>\n",
       "      <td>0.048200</td>\n",
       "    </tr>\n",
       "    <tr>\n",
       "      <th>17</th>\n",
       "      <td>100117</td>\n",
       "      <td>0.026147</td>\n",
       "    </tr>\n",
       "    <tr>\n",
       "      <th>18</th>\n",
       "      <td>100128</td>\n",
       "      <td>0.162659</td>\n",
       "    </tr>\n",
       "    <tr>\n",
       "      <th>19</th>\n",
       "      <td>100141</td>\n",
       "      <td>0.031289</td>\n",
       "    </tr>\n",
       "    <tr>\n",
       "      <th>20</th>\n",
       "      <td>100150</td>\n",
       "      <td>0.029190</td>\n",
       "    </tr>\n",
       "    <tr>\n",
       "      <th>21</th>\n",
       "      <td>100168</td>\n",
       "      <td>0.013499</td>\n",
       "    </tr>\n",
       "    <tr>\n",
       "      <th>22</th>\n",
       "      <td>100169</td>\n",
       "      <td>0.053286</td>\n",
       "    </tr>\n",
       "    <tr>\n",
       "      <th>23</th>\n",
       "      <td>100170</td>\n",
       "      <td>0.090907</td>\n",
       "    </tr>\n",
       "    <tr>\n",
       "      <th>24</th>\n",
       "      <td>100171</td>\n",
       "      <td>0.042653</td>\n",
       "    </tr>\n",
       "    <tr>\n",
       "      <th>25</th>\n",
       "      <td>100172</td>\n",
       "      <td>0.131160</td>\n",
       "    </tr>\n",
       "    <tr>\n",
       "      <th>26</th>\n",
       "      <td>100184</td>\n",
       "      <td>0.080250</td>\n",
       "    </tr>\n",
       "    <tr>\n",
       "      <th>27</th>\n",
       "      <td>100187</td>\n",
       "      <td>0.047709</td>\n",
       "    </tr>\n",
       "    <tr>\n",
       "      <th>28</th>\n",
       "      <td>100212</td>\n",
       "      <td>0.035243</td>\n",
       "    </tr>\n",
       "    <tr>\n",
       "      <th>29</th>\n",
       "      <td>100222</td>\n",
       "      <td>0.085200</td>\n",
       "    </tr>\n",
       "    <tr>\n",
       "      <th>...</th>\n",
       "      <td>...</td>\n",
       "      <td>...</td>\n",
       "    </tr>\n",
       "    <tr>\n",
       "      <th>48714</th>\n",
       "      <td>455963</td>\n",
       "      <td>0.039230</td>\n",
       "    </tr>\n",
       "    <tr>\n",
       "      <th>48715</th>\n",
       "      <td>455965</td>\n",
       "      <td>0.019080</td>\n",
       "    </tr>\n",
       "    <tr>\n",
       "      <th>48716</th>\n",
       "      <td>456007</td>\n",
       "      <td>0.243231</td>\n",
       "    </tr>\n",
       "    <tr>\n",
       "      <th>48717</th>\n",
       "      <td>456008</td>\n",
       "      <td>0.015630</td>\n",
       "    </tr>\n",
       "    <tr>\n",
       "      <th>48718</th>\n",
       "      <td>456009</td>\n",
       "      <td>0.037826</td>\n",
       "    </tr>\n",
       "    <tr>\n",
       "      <th>48719</th>\n",
       "      <td>456010</td>\n",
       "      <td>0.078752</td>\n",
       "    </tr>\n",
       "    <tr>\n",
       "      <th>48720</th>\n",
       "      <td>456011</td>\n",
       "      <td>0.030003</td>\n",
       "    </tr>\n",
       "    <tr>\n",
       "      <th>48721</th>\n",
       "      <td>456013</td>\n",
       "      <td>0.164144</td>\n",
       "    </tr>\n",
       "    <tr>\n",
       "      <th>48722</th>\n",
       "      <td>456028</td>\n",
       "      <td>0.166925</td>\n",
       "    </tr>\n",
       "    <tr>\n",
       "      <th>48723</th>\n",
       "      <td>456058</td>\n",
       "      <td>0.095231</td>\n",
       "    </tr>\n",
       "    <tr>\n",
       "      <th>48724</th>\n",
       "      <td>456111</td>\n",
       "      <td>0.067800</td>\n",
       "    </tr>\n",
       "    <tr>\n",
       "      <th>48725</th>\n",
       "      <td>456114</td>\n",
       "      <td>0.060612</td>\n",
       "    </tr>\n",
       "    <tr>\n",
       "      <th>48726</th>\n",
       "      <td>456115</td>\n",
       "      <td>0.036095</td>\n",
       "    </tr>\n",
       "    <tr>\n",
       "      <th>48727</th>\n",
       "      <td>456116</td>\n",
       "      <td>0.017346</td>\n",
       "    </tr>\n",
       "    <tr>\n",
       "      <th>48728</th>\n",
       "      <td>456119</td>\n",
       "      <td>0.014878</td>\n",
       "    </tr>\n",
       "    <tr>\n",
       "      <th>48729</th>\n",
       "      <td>456120</td>\n",
       "      <td>0.111326</td>\n",
       "    </tr>\n",
       "    <tr>\n",
       "      <th>48730</th>\n",
       "      <td>456122</td>\n",
       "      <td>0.074197</td>\n",
       "    </tr>\n",
       "    <tr>\n",
       "      <th>48731</th>\n",
       "      <td>456123</td>\n",
       "      <td>0.015078</td>\n",
       "    </tr>\n",
       "    <tr>\n",
       "      <th>48732</th>\n",
       "      <td>456166</td>\n",
       "      <td>0.070404</td>\n",
       "    </tr>\n",
       "    <tr>\n",
       "      <th>48733</th>\n",
       "      <td>456167</td>\n",
       "      <td>0.031694</td>\n",
       "    </tr>\n",
       "    <tr>\n",
       "      <th>48734</th>\n",
       "      <td>456168</td>\n",
       "      <td>0.047344</td>\n",
       "    </tr>\n",
       "    <tr>\n",
       "      <th>48735</th>\n",
       "      <td>456169</td>\n",
       "      <td>0.095337</td>\n",
       "    </tr>\n",
       "    <tr>\n",
       "      <th>48736</th>\n",
       "      <td>456170</td>\n",
       "      <td>0.028825</td>\n",
       "    </tr>\n",
       "    <tr>\n",
       "      <th>48737</th>\n",
       "      <td>456189</td>\n",
       "      <td>0.145026</td>\n",
       "    </tr>\n",
       "    <tr>\n",
       "      <th>48738</th>\n",
       "      <td>456202</td>\n",
       "      <td>0.079378</td>\n",
       "    </tr>\n",
       "    <tr>\n",
       "      <th>48739</th>\n",
       "      <td>456221</td>\n",
       "      <td>0.031878</td>\n",
       "    </tr>\n",
       "    <tr>\n",
       "      <th>48740</th>\n",
       "      <td>456222</td>\n",
       "      <td>0.052613</td>\n",
       "    </tr>\n",
       "    <tr>\n",
       "      <th>48741</th>\n",
       "      <td>456223</td>\n",
       "      <td>0.018070</td>\n",
       "    </tr>\n",
       "    <tr>\n",
       "      <th>48742</th>\n",
       "      <td>456224</td>\n",
       "      <td>0.031413</td>\n",
       "    </tr>\n",
       "    <tr>\n",
       "      <th>48743</th>\n",
       "      <td>456250</td>\n",
       "      <td>0.178313</td>\n",
       "    </tr>\n",
       "  </tbody>\n",
       "</table>\n",
       "<p>48744 rows × 2 columns</p>\n",
       "</div>"
      ],
      "text/plain": [
       "       SK_ID_CURR    TARGET\n",
       "0          100001  0.056904\n",
       "1          100005  0.131157\n",
       "2          100013  0.027714\n",
       "3          100028  0.038743\n",
       "4          100038  0.166512\n",
       "5          100042  0.043595\n",
       "6          100057  0.019209\n",
       "7          100065  0.028271\n",
       "8          100066  0.022901\n",
       "9          100067  0.079798\n",
       "10         100074  0.044409\n",
       "11         100090  0.050482\n",
       "12         100091  0.170411\n",
       "13         100092  0.112151\n",
       "14         100106  0.045583\n",
       "15         100107  0.120376\n",
       "16         100109  0.048200\n",
       "17         100117  0.026147\n",
       "18         100128  0.162659\n",
       "19         100141  0.031289\n",
       "20         100150  0.029190\n",
       "21         100168  0.013499\n",
       "22         100169  0.053286\n",
       "23         100170  0.090907\n",
       "24         100171  0.042653\n",
       "25         100172  0.131160\n",
       "26         100184  0.080250\n",
       "27         100187  0.047709\n",
       "28         100212  0.035243\n",
       "29         100222  0.085200\n",
       "...           ...       ...\n",
       "48714      455963  0.039230\n",
       "48715      455965  0.019080\n",
       "48716      456007  0.243231\n",
       "48717      456008  0.015630\n",
       "48718      456009  0.037826\n",
       "48719      456010  0.078752\n",
       "48720      456011  0.030003\n",
       "48721      456013  0.164144\n",
       "48722      456028  0.166925\n",
       "48723      456058  0.095231\n",
       "48724      456111  0.067800\n",
       "48725      456114  0.060612\n",
       "48726      456115  0.036095\n",
       "48727      456116  0.017346\n",
       "48728      456119  0.014878\n",
       "48729      456120  0.111326\n",
       "48730      456122  0.074197\n",
       "48731      456123  0.015078\n",
       "48732      456166  0.070404\n",
       "48733      456167  0.031694\n",
       "48734      456168  0.047344\n",
       "48735      456169  0.095337\n",
       "48736      456170  0.028825\n",
       "48737      456189  0.145026\n",
       "48738      456202  0.079378\n",
       "48739      456221  0.031878\n",
       "48740      456222  0.052613\n",
       "48741      456223  0.018070\n",
       "48742      456224  0.031413\n",
       "48743      456250  0.178313\n",
       "\n",
       "[48744 rows x 2 columns]"
      ]
     },
     "execution_count": 124,
     "metadata": {},
     "output_type": "execute_result"
    }
   ],
   "source": [
    "submission"
   ]
  },
  {
   "cell_type": "code",
   "execution_count": 126,
   "metadata": {},
   "outputs": [],
   "source": [
    "submission.to_csv('submission.csv', index = False)"
   ]
  }
 ],
 "metadata": {
  "kernelspec": {
   "display_name": "Python 3",
   "language": "python",
   "name": "python3"
  },
  "language_info": {
   "codemirror_mode": {
    "name": "ipython",
    "version": 3
   },
   "file_extension": ".py",
   "mimetype": "text/x-python",
   "name": "python",
   "nbconvert_exporter": "python",
   "pygments_lexer": "ipython3",
   "version": "3.7.3"
  }
 },
 "nbformat": 4,
 "nbformat_minor": 2
}
